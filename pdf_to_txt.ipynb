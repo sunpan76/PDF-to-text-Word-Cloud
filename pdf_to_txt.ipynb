{
 "cells": [
  {
   "cell_type": "code",
   "execution_count": 1,
   "metadata": {},
   "outputs": [],
   "source": [
    "import PyPDF2"
   ]
  },
  {
   "cell_type": "code",
   "execution_count": 2,
   "metadata": {},
   "outputs": [
    {
     "data": {
      "text/plain": [
       "<_io.BufferedReader name='/Users/sundarpandey/Documents/Pdf_text/automate_online-materials/meetingminutes.pdf'>"
      ]
     },
     "execution_count": 2,
     "metadata": {},
     "output_type": "execute_result"
    }
   ],
   "source": [
    "pdfFileObj = open('/Users/sundarpandey/Documents/Pdf_text/automate_online-materials/meetingminutes.pdf', 'rb')\n",
    "pdfFileObj"
   ]
  },
  {
   "cell_type": "code",
   "execution_count": 3,
   "metadata": {},
   "outputs": [
    {
     "data": {
      "text/plain": [
       "<PyPDF2.pdf.PdfFileReader at 0x105c5e750>"
      ]
     },
     "execution_count": 3,
     "metadata": {},
     "output_type": "execute_result"
    }
   ],
   "source": [
    "pdfReader = PyPDF2.PdfFileReader(pdfFileObj)\n",
    "pdfReader"
   ]
  },
  {
   "cell_type": "code",
   "execution_count": 4,
   "metadata": {},
   "outputs": [
    {
     "data": {
      "text/plain": [
       "19"
      ]
     },
     "execution_count": 4,
     "metadata": {},
     "output_type": "execute_result"
    }
   ],
   "source": [
    "pdfReader.numPages"
   ]
  },
  {
   "cell_type": "code",
   "execution_count": 5,
   "metadata": {},
   "outputs": [],
   "source": [
    "pageObj = pdfReader.getPage(1)\n",
    "text = pageObj.extractText()"
   ]
  },
  {
   "cell_type": "code",
   "execution_count": 6,
   "metadata": {},
   "outputs": [
    {
     "data": {
      "text/plain": [
       "' LOUISIANA STATE BOARD OF ELEMENTARY AND SECONDARY EDUCATION\\n   MARCH 7, 2014\\n  \\n The Louisiana Purchase Room\\n  Baton Rouge, LA\\n   \\n \\n \\nThe Louisiana State Board of Elementary and Secondary Education met in \\nregular\\n session on\\n March 7, 2014\\n, in the Louisiana Purcha\\nse Room, located in the Claiborne \\nBuilding in Baton Rouge, Louisiana.  The meeting was called to order at \\n9:17 a.m.\\n by \\nBoard President \\nChas Roemer\\n and opened with a prayer by\\n Ms. Terry Johnson, Bossier \\nParish School System\\n.  \\nBoard members present were \\nDr. Lottie Beebe, Ms. Holly Boffy, Mr. Jim Garvey, Mr.\\n Jay \\nGuillot, Ms.\\n Carolyn Hill, Mr. Walter Lee, \\nDr. Judith Miranti, \\nMr. Chas Roemer\\n, and \\nMs. Jane Smith\\n.  Ms. Connie Bradford\\n and Ms. Kira Orange Jones were\\n absent.\\n  \\nDr. Charlie Michel, Lafourche Parish Sch\\nool System,\\n led the Pledge of Allegiance.\\n  Agenda\\n Item 2.\\n On motion of Mr. Garvey, seconded by Ms. Boffy, the Board approved the \\nagenda, as printed and disseminated.\\n (Schedule 1)\\n  Agenda\\n Item 3.\\n On motion of Ms. Smith, seconded by Ms. Boffy, the Board app\\nroved the \\nminutes of January 15, 2014.\\n  Agenda\\n Item 4.\\n Report by the State Superintendent of Education\\n  State Superintendent of Education John White provided an update on the \\nintense and increased support that the LDE is providing to teachers to \\nassist wi\\nth \\nnew academic expectations.  The LDE has established the \\nfollowing support structures:  \\n(1) \\nnetwork teams are working directly with \\nsuperintendents; \\n(2) \\ndistrict planning teams and district planning guides \\nhave been established in every district; and \\n(3) teacher leader team\\ns are\\n doubling to 4,000 next year.  Sample test items are being released.  The \\ncurriculum package for next year is being released.\\n  Next year™s \\nassessment guides will be produced in the following weeks.\\n  '"
      ]
     },
     "execution_count": 6,
     "metadata": {},
     "output_type": "execute_result"
    }
   ],
   "source": [
    "text"
   ]
  },
  {
   "cell_type": "markdown",
   "metadata": {},
   "source": [
    "# Removing \\n"
   ]
  },
  {
   "cell_type": "code",
   "execution_count": 7,
   "metadata": {
    "scrolled": true
   },
   "outputs": [
    {
     "data": {
      "text/plain": [
       "' LOUISIANA STATE BOARD OF ELEMENTARY AND SECONDARY EDUCATION   MARCH 7, 2014   The Louisiana Purchase Room  Baton Rouge, LA     The Louisiana State Board of Elementary and Secondary Education met in regular session on March 7, 2014, in the Louisiana Purchase Room, located in the Claiborne Building in Baton Rouge, Louisiana.  The meeting was called to order at 9:17 a.m. by Board President Chas Roemer and opened with a prayer by Ms. Terry Johnson, Bossier Parish School System.  Board members present were Dr. Lottie Beebe, Ms. Holly Boffy, Mr. Jim Garvey, Mr. Jay Guillot, Ms. Carolyn Hill, Mr. Walter Lee, Dr. Judith Miranti, Mr. Chas Roemer, and Ms. Jane Smith.  Ms. Connie Bradford and Ms. Kira Orange Jones were absent.  Dr. Charlie Michel, Lafourche Parish School System, led the Pledge of Allegiance.  Agenda Item 2. On motion of Mr. Garvey, seconded by Ms. Boffy, the Board approved the agenda, as printed and disseminated. (Schedule 1)  Agenda Item 3. On motion of Ms. Smith, seconded by Ms. Boffy, the Board approved the minutes of January 15, 2014.  Agenda Item 4. Report by the State Superintendent of Education  State Superintendent of Education John White provided an update on the intense and increased support that the LDE is providing to teachers to assist with new academic expectations.  The LDE has established the following support structures:  (1) network teams are working directly with superintendents; (2) district planning teams and district planning guides have been established in every district; and (3) teacher leader teams are doubling to 4,000 next year.  Sample test items are being released.  The curriculum package for next year is being released.  Next year™s assessment guides will be produced in the following weeks.  '"
      ]
     },
     "execution_count": 7,
     "metadata": {},
     "output_type": "execute_result"
    }
   ],
   "source": [
    "Text_1 = text.replace(\"\\n\", \"\")\n",
    "Text_1"
   ]
  },
  {
   "cell_type": "code",
   "execution_count": 8,
   "metadata": {},
   "outputs": [
    {
     "data": {
      "text/plain": [
       "' louisiana state board of elementary and secondary education   march 7, 2014   the louisiana purchase room  baton rouge, la     the louisiana state board of elementary and secondary education met in regular session on march 7, 2014, in the louisiana purchase room, located in the claiborne building in baton rouge, louisiana.  the meeting was called to order at 9:17 a.m. by board president chas roemer and opened with a prayer by ms. terry johnson, bossier parish school system.  board members present were dr. lottie beebe, ms. holly boffy, mr. jim garvey, mr. jay guillot, ms. carolyn hill, mr. walter lee, dr. judith miranti, mr. chas roemer, and ms. jane smith.  ms. connie bradford and ms. kira orange jones were absent.  dr. charlie michel, lafourche parish school system, led the pledge of allegiance.  agenda item 2. on motion of mr. garvey, seconded by ms. boffy, the board approved the agenda, as printed and disseminated. (schedule 1)  agenda item 3. on motion of ms. smith, seconded by ms. boffy, the board approved the minutes of january 15, 2014.  agenda item 4. report by the state superintendent of education  state superintendent of education john white provided an update on the intense and increased support that the lde is providing to teachers to assist with new academic expectations.  the lde has established the following support structures:  (1) network teams are working directly with superintendents; (2) district planning teams and district planning guides have been established in every district; and (3) teacher leader teams are doubling to 4,000 next year.  sample test items are being released.  the curriculum package for next year is being released.  next year™s assessment guides will be produced in the following weeks.  '"
      ]
     },
     "execution_count": 8,
     "metadata": {},
     "output_type": "execute_result"
    }
   ],
   "source": [
    "# Apply a first round of text cleaning techniques\n",
    "\n",
    "import re\n",
    "import string\n",
    "\n",
    "'''Make text lowercase, remove text in square brackets, remove punctuation and remove words containing numbers.'''\n",
    "text_l = Text_1.lower()\n",
    "text_l"
   ]
  },
  {
   "cell_type": "code",
   "execution_count": 9,
   "metadata": {},
   "outputs": [
    {
     "data": {
      "text/plain": [
       "' louisiana state board of elementary and secondary education   march 7, 2014   the louisiana purchase room  baton rouge, la     the louisiana state board of elementary and secondary education met in regular session on march 7, 2014, in the louisiana purchase room, located in the claiborne building in baton rouge, louisiana.  the meeting was called to order at 9:17 a.m. by board president chas roemer and opened with a prayer by ms. terry johnson, bossier parish school system.  board members present were dr. lottie beebe, ms. holly boffy, mr. jim garvey, mr. jay guillot, ms. carolyn hill, mr. walter lee, dr. judith miranti, mr. chas roemer, and ms. jane smith.  ms. connie bradford and ms. kira orange jones were absent.  dr. charlie michel, lafourche parish school system, led the pledge of allegiance.  agenda item 2. on motion of mr. garvey, seconded by ms. boffy, the board approved the agenda, as printed and disseminated. (schedule 1)  agenda item 3. on motion of ms. smith, seconded by ms. boffy, the board approved the minutes of january 15, 2014.  agenda item 4. report by the state superintendent of education  state superintendent of education john white provided an update on the intense and increased support that the lde is providing to teachers to assist with new academic expectations.  the lde has established the following support structures:  (1) network teams are working directly with superintendents; (2) district planning teams and district planning guides have been established in every district; and (3) teacher leader teams are doubling to 4,000 next year.  sample test items are being released.  the curriculum package for next year is being released.  next year™s assessment guides will be produced in the following weeks.  '"
      ]
     },
     "execution_count": 9,
     "metadata": {},
     "output_type": "execute_result"
    }
   ],
   "source": [
    "text_1 = re.sub('\\[.*?\\]', '', text_l)\n",
    "text_1"
   ]
  },
  {
   "cell_type": "code",
   "execution_count": 10,
   "metadata": {},
   "outputs": [
    {
     "data": {
      "text/plain": [
       "' louisiana state board of elementary and secondary education   march ,    the louisiana purchase room  baton rouge, la     the louisiana state board of elementary and secondary education met in regular session on march , , in the louisiana purchase room, located in the claiborne building in baton rouge, louisiana.  the meeting was called to order at : a.m. by board president chas roemer and opened with a prayer by ms. terry johnson, bossier parish school system.  board members present were dr. lottie beebe, ms. holly boffy, mr. jim garvey, mr. jay guillot, ms. carolyn hill, mr. walter lee, dr. judith miranti, mr. chas roemer, and ms. jane smith.  ms. connie bradford and ms. kira orange jones were absent.  dr. charlie michel, lafourche parish school system, led the pledge of allegiance.  agenda item . on motion of mr. garvey, seconded by ms. boffy, the board approved the agenda, as printed and disseminated. (schedule )  agenda item . on motion of ms. smith, seconded by ms. boffy, the board approved the minutes of january , .  agenda item . report by the state superintendent of education  state superintendent of education john white provided an update on the intense and increased support that the lde is providing to teachers to assist with new academic expectations.  the lde has established the following support structures:  () network teams are working directly with superintendents; () district planning teams and district planning guides have been established in every district; and () teacher leader teams are doubling to , next year.  sample test items are being released.  the curriculum package for next year is being released.  next year™s assessment guides will be produced in the following weeks.  '"
      ]
     },
     "execution_count": 10,
     "metadata": {},
     "output_type": "execute_result"
    }
   ],
   "source": [
    "text_2 = re.sub('\\w*\\d\\w*', '', text_1)\n",
    "text_2"
   ]
  },
  {
   "cell_type": "code",
   "execution_count": 11,
   "metadata": {},
   "outputs": [
    {
     "data": {
      "text/plain": [
       "' louisiana state board of elementary and secondary education   march     the louisiana purchase room  baton rouge la     the louisiana state board of elementary and secondary education met in regular session on march   in the louisiana purchase room located in the claiborne building in baton rouge louisiana  the meeting was called to order at  am by board president chas roemer and opened with a prayer by ms terry johnson bossier parish school system  board members present were dr lottie beebe ms holly boffy mr jim garvey mr jay guillot ms carolyn hill mr walter lee dr judith miranti mr chas roemer and ms jane smith  ms connie bradford and ms kira orange jones were absent  dr charlie michel lafourche parish school system led the pledge of allegiance  agenda item  on motion of mr garvey seconded by ms boffy the board approved the agenda as printed and disseminated schedule   agenda item  on motion of ms smith seconded by ms boffy the board approved the minutes of january    agenda item  report by the state superintendent of education  state superintendent of education john white provided an update on the intense and increased support that the lde is providing to teachers to assist with new academic expectations  the lde has established the following support structures   network teams are working directly with superintendents  district planning teams and district planning guides have been established in every district and  teacher leader teams are doubling to  next year  sample test items are being released  the curriculum package for next year is being released  next year™s assessment guides will be produced in the following weeks  '"
      ]
     },
     "execution_count": 11,
     "metadata": {},
     "output_type": "execute_result"
    }
   ],
   "source": [
    "text_3 = re.sub('[‘’“”…():.;,]', '', text_2)\n",
    "text_3"
   ]
  },
  {
   "cell_type": "code",
   "execution_count": 12,
   "metadata": {},
   "outputs": [
    {
     "data": {
      "text/plain": [
       "' louisiana state board of elementary and secondary education   march     the louisiana purchase room  baton rouge la     the louisiana state board of elementary and secondary education met in regular session on march   in the louisiana purchase room located in the claiborne building in baton rouge louisiana  the meeting was called to order at  am by board president chas roemer and opened with a prayer by  terry johnson bossier parish school system  board members present were  lottie beebe  holly boffy  jim garvey  jay guillot  carolyn hill  walter lee  judith miranti  chas roemer and  jane smith   connie bradford and  kira orange jones were absent   charlie michel lafourche parish school system led the pledge of allegiance  agenda item  on motion of  garvey seconded by  boffy the board approved the agenda as printed and disseminated schedule   agenda item  on motion of  smith seconded by  boffy the board approved the minutes of january    agenda item  report by the state superintendent of education  state superintendent of education john white provided an update on the intense and increased support that the lde is providing to teachers to assist with new academic expectations  the lde has established the following support structures   network tea are working directly with superintendents  district planning tea and district planning guides have been established in every district and  teacher leader tea are doubling to  next year  sample test ite are being released  the curriculum package for next year is being released  next year™s assessment guides will be produced in the following weeks  '"
      ]
     },
     "execution_count": 12,
     "metadata": {},
     "output_type": "execute_result"
    }
   ],
   "source": [
    "text_4 = re.sub('ms|mr|dr', '', text_3)\n",
    "text_4"
   ]
  },
  {
   "cell_type": "code",
   "execution_count": 13,
   "metadata": {},
   "outputs": [
    {
     "data": {
      "text/plain": [
       "['louisiana',\n",
       " 'state',\n",
       " 'board',\n",
       " 'of',\n",
       " 'elementary',\n",
       " 'and',\n",
       " 'secondary',\n",
       " 'education',\n",
       " 'march',\n",
       " 'the',\n",
       " 'louisiana',\n",
       " 'purchase',\n",
       " 'room',\n",
       " 'baton',\n",
       " 'rouge',\n",
       " 'la',\n",
       " 'the',\n",
       " 'louisiana',\n",
       " 'state',\n",
       " 'board',\n",
       " 'of',\n",
       " 'elementary',\n",
       " 'and',\n",
       " 'secondary',\n",
       " 'education',\n",
       " 'met',\n",
       " 'in',\n",
       " 'regular',\n",
       " 'session',\n",
       " 'on',\n",
       " 'march',\n",
       " 'in',\n",
       " 'the',\n",
       " 'louisiana',\n",
       " 'purchase',\n",
       " 'room',\n",
       " 'located',\n",
       " 'in',\n",
       " 'the',\n",
       " 'claiborne',\n",
       " 'building',\n",
       " 'in',\n",
       " 'baton',\n",
       " 'rouge',\n",
       " 'louisiana',\n",
       " 'the',\n",
       " 'meeting',\n",
       " 'was',\n",
       " 'called',\n",
       " 'to',\n",
       " 'order',\n",
       " 'at',\n",
       " 'am',\n",
       " 'by',\n",
       " 'board',\n",
       " 'president',\n",
       " 'chas',\n",
       " 'roemer',\n",
       " 'and',\n",
       " 'opened',\n",
       " 'with',\n",
       " 'a',\n",
       " 'prayer',\n",
       " 'by',\n",
       " 'terry',\n",
       " 'johnson',\n",
       " 'bossier',\n",
       " 'parish',\n",
       " 'school',\n",
       " 'system',\n",
       " 'board',\n",
       " 'members',\n",
       " 'present',\n",
       " 'were',\n",
       " 'lottie',\n",
       " 'beebe',\n",
       " 'holly',\n",
       " 'boffy',\n",
       " 'jim',\n",
       " 'garvey',\n",
       " 'jay',\n",
       " 'guillot',\n",
       " 'carolyn',\n",
       " 'hill',\n",
       " 'walter',\n",
       " 'lee',\n",
       " 'judith',\n",
       " 'miranti',\n",
       " 'chas',\n",
       " 'roemer',\n",
       " 'and',\n",
       " 'jane',\n",
       " 'smith',\n",
       " 'connie',\n",
       " 'bradford',\n",
       " 'and',\n",
       " 'kira',\n",
       " 'orange',\n",
       " 'jones',\n",
       " 'were',\n",
       " 'absent',\n",
       " 'charlie',\n",
       " 'michel',\n",
       " 'lafourche',\n",
       " 'parish',\n",
       " 'school',\n",
       " 'system',\n",
       " 'led',\n",
       " 'the',\n",
       " 'pledge',\n",
       " 'of',\n",
       " 'allegiance',\n",
       " 'agenda',\n",
       " 'item',\n",
       " 'on',\n",
       " 'motion',\n",
       " 'of',\n",
       " 'garvey',\n",
       " 'seconded',\n",
       " 'by',\n",
       " 'boffy',\n",
       " 'the',\n",
       " 'board',\n",
       " 'approved',\n",
       " 'the',\n",
       " 'agenda',\n",
       " 'as',\n",
       " 'printed',\n",
       " 'and',\n",
       " 'disseminated',\n",
       " 'schedule',\n",
       " 'agenda',\n",
       " 'item',\n",
       " 'on',\n",
       " 'motion',\n",
       " 'of',\n",
       " 'smith',\n",
       " 'seconded',\n",
       " 'by',\n",
       " 'boffy',\n",
       " 'the',\n",
       " 'board',\n",
       " 'approved',\n",
       " 'the',\n",
       " 'minutes',\n",
       " 'of',\n",
       " 'january',\n",
       " 'agenda',\n",
       " 'item',\n",
       " 'report',\n",
       " 'by',\n",
       " 'the',\n",
       " 'state',\n",
       " 'superintendent',\n",
       " 'of',\n",
       " 'education',\n",
       " 'state',\n",
       " 'superintendent',\n",
       " 'of',\n",
       " 'education',\n",
       " 'john',\n",
       " 'white',\n",
       " 'provided',\n",
       " 'an',\n",
       " 'update',\n",
       " 'on',\n",
       " 'the',\n",
       " 'intense',\n",
       " 'and',\n",
       " 'increased',\n",
       " 'support',\n",
       " 'that',\n",
       " 'the',\n",
       " 'lde',\n",
       " 'is',\n",
       " 'providing',\n",
       " 'to',\n",
       " 'teachers',\n",
       " 'to',\n",
       " 'assist',\n",
       " 'with',\n",
       " 'new',\n",
       " 'academic',\n",
       " 'expectations',\n",
       " 'the',\n",
       " 'lde',\n",
       " 'has',\n",
       " 'established',\n",
       " 'the',\n",
       " 'following',\n",
       " 'support',\n",
       " 'structures',\n",
       " 'network',\n",
       " 'tea',\n",
       " 'are',\n",
       " 'working',\n",
       " 'directly',\n",
       " 'with',\n",
       " 'superintendents',\n",
       " 'district',\n",
       " 'planning',\n",
       " 'tea',\n",
       " 'and',\n",
       " 'district',\n",
       " 'planning',\n",
       " 'guides',\n",
       " 'have',\n",
       " 'been',\n",
       " 'established',\n",
       " 'in',\n",
       " 'every',\n",
       " 'district',\n",
       " 'and',\n",
       " 'teacher',\n",
       " 'leader',\n",
       " 'tea',\n",
       " 'are',\n",
       " 'doubling',\n",
       " 'to',\n",
       " 'next',\n",
       " 'year',\n",
       " 'sample',\n",
       " 'test',\n",
       " 'ite',\n",
       " 'are',\n",
       " 'being',\n",
       " 'released',\n",
       " 'the',\n",
       " 'curriculum',\n",
       " 'package',\n",
       " 'for',\n",
       " 'next',\n",
       " 'year',\n",
       " 'is',\n",
       " 'being',\n",
       " 'released',\n",
       " 'next',\n",
       " 'year™s',\n",
       " 'assessment',\n",
       " 'guides',\n",
       " 'will',\n",
       " 'be',\n",
       " 'produced',\n",
       " 'in',\n",
       " 'the',\n",
       " 'following',\n",
       " 'weeks']"
      ]
     },
     "execution_count": 13,
     "metadata": {},
     "output_type": "execute_result"
    }
   ],
   "source": [
    "import nltk\n",
    "from nltk import word_tokenize\n",
    "tokens = nltk.word_tokenize(text_4)\n",
    "tokens"
   ]
  },
  {
   "cell_type": "code",
   "execution_count": 14,
   "metadata": {},
   "outputs": [
    {
     "data": {
      "text/plain": [
       "['louisiana',\n",
       " 'state',\n",
       " 'board',\n",
       " 'elementary',\n",
       " 'secondary',\n",
       " 'education',\n",
       " 'march',\n",
       " 'louisiana',\n",
       " 'purchase',\n",
       " 'room',\n",
       " 'baton',\n",
       " 'rouge',\n",
       " 'la',\n",
       " 'louisiana',\n",
       " 'state',\n",
       " 'board',\n",
       " 'elementary',\n",
       " 'secondary',\n",
       " 'education',\n",
       " 'met',\n",
       " 'regular',\n",
       " 'session',\n",
       " 'march',\n",
       " 'louisiana',\n",
       " 'purchase',\n",
       " 'room',\n",
       " 'located',\n",
       " 'claiborne',\n",
       " 'building',\n",
       " 'baton',\n",
       " 'rouge',\n",
       " 'louisiana',\n",
       " 'meeting',\n",
       " 'called',\n",
       " 'order',\n",
       " 'board',\n",
       " 'president',\n",
       " 'chas',\n",
       " 'roemer',\n",
       " 'opened',\n",
       " 'prayer',\n",
       " 'terry',\n",
       " 'johnson',\n",
       " 'bossier',\n",
       " 'parish',\n",
       " 'school',\n",
       " 'system',\n",
       " 'board',\n",
       " 'members',\n",
       " 'present',\n",
       " 'lottie',\n",
       " 'beebe',\n",
       " 'holly',\n",
       " 'boffy',\n",
       " 'jim',\n",
       " 'garvey',\n",
       " 'jay',\n",
       " 'guillot',\n",
       " 'carolyn',\n",
       " 'hill',\n",
       " 'walter',\n",
       " 'lee',\n",
       " 'judith',\n",
       " 'miranti',\n",
       " 'chas',\n",
       " 'roemer',\n",
       " 'jane',\n",
       " 'smith',\n",
       " 'connie',\n",
       " 'bradford',\n",
       " 'kira',\n",
       " 'orange',\n",
       " 'jones',\n",
       " 'absent',\n",
       " 'charlie',\n",
       " 'michel',\n",
       " 'lafourche',\n",
       " 'parish',\n",
       " 'school',\n",
       " 'system',\n",
       " 'led',\n",
       " 'pledge',\n",
       " 'allegiance',\n",
       " 'agenda',\n",
       " 'item',\n",
       " 'motion',\n",
       " 'garvey',\n",
       " 'seconded',\n",
       " 'boffy',\n",
       " 'board',\n",
       " 'approved',\n",
       " 'agenda',\n",
       " 'printed',\n",
       " 'disseminated',\n",
       " 'schedule',\n",
       " 'agenda',\n",
       " 'item',\n",
       " 'motion',\n",
       " 'smith',\n",
       " 'seconded',\n",
       " 'boffy',\n",
       " 'board',\n",
       " 'approved',\n",
       " 'minutes',\n",
       " 'january',\n",
       " 'agenda',\n",
       " 'item',\n",
       " 'report',\n",
       " 'state',\n",
       " 'superintendent',\n",
       " 'education',\n",
       " 'state',\n",
       " 'superintendent',\n",
       " 'education',\n",
       " 'john',\n",
       " 'white',\n",
       " 'provided',\n",
       " 'update',\n",
       " 'intense',\n",
       " 'increased',\n",
       " 'support',\n",
       " 'lde',\n",
       " 'providing',\n",
       " 'teachers',\n",
       " 'assist',\n",
       " 'new',\n",
       " 'academic',\n",
       " 'expectations',\n",
       " 'lde',\n",
       " 'established',\n",
       " 'following',\n",
       " 'support',\n",
       " 'structures',\n",
       " 'network',\n",
       " 'tea',\n",
       " 'working',\n",
       " 'directly',\n",
       " 'superintendents',\n",
       " 'district',\n",
       " 'planning',\n",
       " 'tea',\n",
       " 'district',\n",
       " 'planning',\n",
       " 'guides',\n",
       " 'established',\n",
       " 'every',\n",
       " 'district',\n",
       " 'teacher',\n",
       " 'leader',\n",
       " 'tea',\n",
       " 'doubling',\n",
       " 'next',\n",
       " 'year',\n",
       " 'sample',\n",
       " 'test',\n",
       " 'ite',\n",
       " 'released',\n",
       " 'curriculum',\n",
       " 'package',\n",
       " 'next',\n",
       " 'year',\n",
       " 'released',\n",
       " 'next',\n",
       " 'year™s',\n",
       " 'assessment',\n",
       " 'guides',\n",
       " 'produced',\n",
       " 'following',\n",
       " 'weeks']"
      ]
     },
     "execution_count": 14,
     "metadata": {},
     "output_type": "execute_result"
    }
   ],
   "source": [
    "from nltk.corpus import stopwords\n",
    "stop = set(stopwords.words('english'))\n",
    "text_4_Not_stop = [i for i in tokens if i not in stop]\n",
    "text_4_Not_stop"
   ]
  },
  {
   "cell_type": "code",
   "execution_count": 15,
   "metadata": {},
   "outputs": [
    {
     "data": {
      "text/plain": [
       "'louisiana state board elementary secondary education march louisiana purchase room baton rouge la louisiana state board elementary secondary education met regular session march louisiana purchase room located claiborne building baton rouge louisiana meeting called order board president chas roemer opened prayer terry johnson bossier parish school system board members present lottie beebe holly boffy jim garvey jay guillot carolyn hill walter lee judith miranti chas roemer jane smith connie bradford kira orange jones absent charlie michel lafourche parish school system led pledge allegiance agenda item motion garvey seconded boffy board approved agenda printed disseminated schedule agenda item motion smith seconded boffy board approved minutes january agenda item report state superintendent education state superintendent education john white provided update intense increased support lde providing teachers assist new academic expectations lde established following support structures network tea working directly superintendents district planning tea district planning guides established every district teacher leader tea doubling next year sample test ite released curriculum package next year released next year™s assessment guides produced following weeks'"
      ]
     },
     "execution_count": 15,
     "metadata": {},
     "output_type": "execute_result"
    }
   ],
   "source": [
    "text_5 = ' '.join(text_4_Not_stop)\n",
    "text_5"
   ]
  },
  {
   "cell_type": "code",
   "execution_count": 16,
   "metadata": {},
   "outputs": [
    {
     "data": {
      "text/plain": [
       "FreqDist({'board': 6, 'louisiana': 5, 'state': 4, 'education': 4, 'agenda': 4, 'boffy': 3, 'item': 3, 'tea': 3, 'district': 3, 'next': 3, ...})"
      ]
     },
     "execution_count": 16,
     "metadata": {},
     "output_type": "execute_result"
    }
   ],
   "source": [
    "#data = text_3.split(' ')\n",
    "fdist = nltk.FreqDist(text_4_Not_stop)\n",
    "fdist"
   ]
  },
  {
   "cell_type": "code",
   "execution_count": 17,
   "metadata": {},
   "outputs": [
    {
     "data": {
      "text/html": [
       "<div>\n",
       "<style scoped>\n",
       "    .dataframe tbody tr th:only-of-type {\n",
       "        vertical-align: middle;\n",
       "    }\n",
       "\n",
       "    .dataframe tbody tr th {\n",
       "        vertical-align: top;\n",
       "    }\n",
       "\n",
       "    .dataframe thead th {\n",
       "        text-align: right;\n",
       "    }\n",
       "</style>\n",
       "<table border=\"1\" class=\"dataframe\">\n",
       "  <thead>\n",
       "    <tr style=\"text-align: right;\">\n",
       "      <th></th>\n",
       "      <th>word</th>\n",
       "      <th>frequency</th>\n",
       "    </tr>\n",
       "  </thead>\n",
       "  <tbody>\n",
       "    <tr>\n",
       "      <td>0</td>\n",
       "      <td>louisiana</td>\n",
       "      <td>5</td>\n",
       "    </tr>\n",
       "    <tr>\n",
       "      <td>1</td>\n",
       "      <td>state</td>\n",
       "      <td>4</td>\n",
       "    </tr>\n",
       "    <tr>\n",
       "      <td>2</td>\n",
       "      <td>board</td>\n",
       "      <td>6</td>\n",
       "    </tr>\n",
       "    <tr>\n",
       "      <td>3</td>\n",
       "      <td>elementary</td>\n",
       "      <td>2</td>\n",
       "    </tr>\n",
       "    <tr>\n",
       "      <td>4</td>\n",
       "      <td>secondary</td>\n",
       "      <td>2</td>\n",
       "    </tr>\n",
       "    <tr>\n",
       "      <td>...</td>\n",
       "      <td>...</td>\n",
       "      <td>...</td>\n",
       "    </tr>\n",
       "    <tr>\n",
       "      <td>110</td>\n",
       "      <td>package</td>\n",
       "      <td>1</td>\n",
       "    </tr>\n",
       "    <tr>\n",
       "      <td>111</td>\n",
       "      <td>year™s</td>\n",
       "      <td>1</td>\n",
       "    </tr>\n",
       "    <tr>\n",
       "      <td>112</td>\n",
       "      <td>assessment</td>\n",
       "      <td>1</td>\n",
       "    </tr>\n",
       "    <tr>\n",
       "      <td>113</td>\n",
       "      <td>produced</td>\n",
       "      <td>1</td>\n",
       "    </tr>\n",
       "    <tr>\n",
       "      <td>114</td>\n",
       "      <td>weeks</td>\n",
       "      <td>1</td>\n",
       "    </tr>\n",
       "  </tbody>\n",
       "</table>\n",
       "<p>115 rows × 2 columns</p>\n",
       "</div>"
      ],
      "text/plain": [
       "           word  frequency\n",
       "0     louisiana          5\n",
       "1         state          4\n",
       "2         board          6\n",
       "3    elementary          2\n",
       "4     secondary          2\n",
       "..          ...        ...\n",
       "110     package          1\n",
       "111      year™s          1\n",
       "112  assessment          1\n",
       "113    produced          1\n",
       "114       weeks          1\n",
       "\n",
       "[115 rows x 2 columns]"
      ]
     },
     "execution_count": 17,
     "metadata": {},
     "output_type": "execute_result"
    }
   ],
   "source": [
    "import pandas as pd\n",
    "df = pd.DataFrame(fdist.items(), columns=['word', 'frequency'])\n",
    "df"
   ]
  },
  {
   "cell_type": "code",
   "execution_count": 18,
   "metadata": {},
   "outputs": [
    {
     "data": {
      "image/png": "[encoded data removed]",
      "text/plain": [
       "<Figure size 432x288 with 1 Axes>"
      ]
     },
     "metadata": {
      "needs_background": "light"
     },
     "output_type": "display_data"
    }
   ],
   "source": [
    "from wordcloud import WordCloud, STOPWORDS, ImageColorGenerator\n",
    "\n",
    "import matplotlib.pyplot as plt\n",
    "%matplotlib inline\n",
    "\n",
    "# Create and generate a word cloud image:\n",
    "wordcloud = WordCloud().generate(text_5)\n",
    "\n",
    "# Display the generated image:\n",
    "plt.imshow(wordcloud, interpolation='bilinear')\n",
    "plt.axis(\"off\")\n",
    "plt.show()"
   ]
  },
  {
   "cell_type": "code",
   "execution_count": null,
   "metadata": {},
   "outputs": [],
   "source": []
  }
 ],
 "metadata": {
  "kernelspec": {
   "display_name": "Python 3",
   "language": "python",
   "name": "python3"
  },
  "language_info": {
   "codemirror_mode": {
    "name": "ipython",
    "version": 3
   },
   "file_extension": ".py",
   "mimetype": "text/x-python",
   "name": "python",
   "nbconvert_exporter": "python",
   "pygments_lexer": "ipython3",
   "version": "3.7.4"
  }
 },
 "nbformat": 4,
 "nbformat_minor": 2
}
